{
 "cells": [
  {
   "cell_type": "code",
   "execution_count": 99,
   "metadata": {
    "scrolled": true
   },
   "outputs": [
    {
     "name": "stdout",
     "output_type": "stream",
     "text": [
      "My Hobbies are\n",
      "['Working Out', 'Overwatch', 'Coding']\n",
      "\n",
      "The third hobby in the list is\n",
      "Coding\n",
      "\n",
      "The length of hobbies are\n",
      "3\n"
     ]
    }
   ],
   "source": [
    "# Write down a list of your hobbies and :\n",
    "# 1 print the entire list\n",
    "# 2 print the thrid item in the list\n",
    "# length of the list\n",
    "hobbies = ['Working Out' , 'Overwatch' , 'Coding']\n",
    "print('My Hobbies are')\n",
    "print(hobbies)\n",
    "print()\n",
    "\n",
    "print('The third hobby in the list is')\n",
    "print(hobbies[2])\n",
    "print()\n",
    "\n",
    "print('The length of hobbies are')\n",
    "print(len(hobbies))"
   ]
  },
  {
   "cell_type": "code",
   "execution_count": 100,
   "metadata": {},
   "outputs": [
    {
     "name": "stdout",
     "output_type": "stream",
     "text": [
      "['Working Out', 'Overwatch', 'Coding', 'Reading Books']\n"
     ]
    }
   ],
   "source": [
    "# add new hobby to the list\n",
    "hobbies.append('Reading Books')\n",
    "print(hobbies)"
   ]
  },
  {
   "cell_type": "code",
   "execution_count": 101,
   "metadata": {},
   "outputs": [
    {
     "name": "stdout",
     "output_type": "stream",
     "text": [
      "['Working Out', 'Juggling', 'Overwatch', 'Coding', 'Reading Books']\n"
     ]
    }
   ],
   "source": [
    "### add another new hobby as the second item in the list\n",
    "hobbies.insert(1, 'Juggling')\n",
    "print(hobbies)"
   ]
  },
  {
   "cell_type": "code",
   "execution_count": 102,
   "metadata": {},
   "outputs": [
    {
     "name": "stdout",
     "output_type": "stream",
     "text": [
      "['Working Out', 'Juggling', 'Overwatch', 'Coding', 'Reading Books', 'Youtube', 'Podcast']\n"
     ]
    }
   ],
   "source": [
    "# make a new list hobbies_2 and include the items from this list to a pre-existing hobbies list\n",
    "hobbies_2 = ['Youtube', 'Podcast']\n",
    "hobbies.extend(hobbies_2)\n",
    "print(hobbies)\n",
    "\n",
    "# Note: Insert adds a list inside a list in the designated position and appends adds list inside a list towards the end."
   ]
  },
  {
   "cell_type": "code",
   "execution_count": 103,
   "metadata": {},
   "outputs": [
    {
     "name": "stdout",
     "output_type": "stream",
     "text": [
      "['Working Out', 'Juggling', 'Overwatch', 'Coding', 'Reading Books', 'Podcast']\n"
     ]
    }
   ],
   "source": [
    "# get rid of one of the hobbies\n",
    "hobbies.remove('Youtube')\n",
    "print(hobbies)"
   ]
  },
  {
   "cell_type": "code",
   "execution_count": 104,
   "metadata": {},
   "outputs": [
    {
     "name": "stdout",
     "output_type": "stream",
     "text": [
      "['Working Out', 'Juggling', 'Overwatch', 'Coding', 'Reading Books']\n",
      "Podcast\n"
     ]
    }
   ],
   "source": [
    "# get rid of the last value of the list\n",
    "# print the course that was removed\n",
    "deleted_course = hobbies.pop()\n",
    "print(hobbies)\n",
    "print(deleted_course)"
   ]
  },
  {
   "cell_type": "code",
   "execution_count": 105,
   "metadata": {},
   "outputs": [
    {
     "name": "stdout",
     "output_type": "stream",
     "text": [
      "['Reading Books', 'Coding', 'Overwatch', 'Juggling', 'Working Out']\n"
     ]
    }
   ],
   "source": [
    "# reverse the order of the hobbies\n",
    "hobbies.reverse()\n",
    "print(hobbies)"
   ]
  },
  {
   "cell_type": "code",
   "execution_count": 106,
   "metadata": {},
   "outputs": [
    {
     "name": "stdout",
     "output_type": "stream",
     "text": [
      "['Data Science', 'Psychology', 'Self Help']\n",
      "[1, 3, 4, 5, 7]\n"
     ]
    }
   ],
   "source": [
    "# make two list courses and nums. rearrange them in ascending order\n",
    "courses = ['Psychology', 'Data Science', 'Self Help']\n",
    "nums = [1,5,3,7,4]\n",
    "courses.sort()\n",
    "nums.sort()\n",
    "print(courses)\n",
    "print(nums)"
   ]
  },
  {
   "cell_type": "code",
   "execution_count": 107,
   "metadata": {},
   "outputs": [
    {
     "name": "stdout",
     "output_type": "stream",
     "text": [
      "['Self Help', 'Psychology', 'Data Science']\n",
      "[7, 5, 4, 3, 1]\n"
     ]
    }
   ],
   "source": [
    "# reaarrange courses and nums in descending order\n",
    "courses.sort(reverse = True)\n",
    "nums.sort(reverse = True)\n",
    "print(courses)\n",
    "print(nums)"
   ]
  },
  {
   "cell_type": "code",
   "execution_count": 113,
   "metadata": {},
   "outputs": [
    {
     "name": "stdout",
     "output_type": "stream",
     "text": [
      "['Data Science', 'Psychology', 'Self Help']\n",
      "['Self Help', 'Psychology', 'Data Science']\n"
     ]
    }
   ],
   "source": [
    "# .sort() alters the original version of the list. provide the sorted value of courses in ascending order\n",
    "# also print the original courses list\n",
    "ascending = sorted(courses)\n",
    "print(ascending)\n",
    "print(courses)"
   ]
  },
  {
   "cell_type": "code",
   "execution_count": 114,
   "metadata": {},
   "outputs": [
    {
     "name": "stdout",
     "output_type": "stream",
     "text": [
      "20\n",
      "1\n",
      "7\n"
     ]
    }
   ],
   "source": [
    "# Find: 1. Sum of all nums, 2. smallest number in num , 3. Greatest number in nums\n",
    "print(sum(nums))\n",
    "print(min(nums))\n",
    "print(max(nums))"
   ]
  },
  {
   "cell_type": "code",
   "execution_count": 115,
   "metadata": {},
   "outputs": [
    {
     "name": "stdout",
     "output_type": "stream",
     "text": [
      "2\n"
     ]
    }
   ],
   "source": [
    "# find the index of your favorite course in the list\n",
    "print(courses.index('Data Science'))"
   ]
  },
  {
   "cell_type": "code",
   "execution_count": 116,
   "metadata": {},
   "outputs": [
    {
     "name": "stdout",
     "output_type": "stream",
     "text": [
      "False\n"
     ]
    }
   ],
   "source": [
    "### Check to see if Statistics is in the list of courses\n",
    "print('Statistics' in courses)"
   ]
  },
  {
   "cell_type": "code",
   "execution_count": 117,
   "metadata": {},
   "outputs": [
    {
     "name": "stdout",
     "output_type": "stream",
     "text": [
      "Self Help\n",
      "Psychology\n",
      "Data Science\n"
     ]
    }
   ],
   "source": [
    "# use a for loop to print every course on the list\n",
    "for item in courses:\n",
    "    print(item)"
   ]
  },
  {
   "cell_type": "code",
   "execution_count": 118,
   "metadata": {},
   "outputs": [
    {
     "name": "stdout",
     "output_type": "stream",
     "text": [
      "0 Self Help\n",
      "1 Psychology\n",
      "2 Data Science\n"
     ]
    }
   ],
   "source": [
    "# use for loop to print every course on the list with their index\n",
    "for index, items in enumerate(courses):\n",
    "    print(index, items)"
   ]
  },
  {
   "cell_type": "code",
   "execution_count": 119,
   "metadata": {},
   "outputs": [
    {
     "name": "stdout",
     "output_type": "stream",
     "text": [
      "1 Self Help\n",
      "2 Psychology\n",
      "3 Data Science\n"
     ]
    }
   ],
   "source": [
    "# use for loop to print every course on the list with the index starting at 1\n",
    "for index, items in enumerate(courses, start = 1):\n",
    "    print(index, items)"
   ]
  },
  {
   "cell_type": "code",
   "execution_count": 120,
   "metadata": {},
   "outputs": [
    {
     "name": "stdout",
     "output_type": "stream",
     "text": [
      "Self Help , Psychology , Data Science\n"
     ]
    }
   ],
   "source": [
    "# show all the courses on the list as a string in a single variable string_courses\n",
    "string_courses = ' , '.join(courses)\n",
    "print(string_courses)"
   ]
  },
  {
   "cell_type": "code",
   "execution_count": 121,
   "metadata": {},
   "outputs": [
    {
     "name": "stdout",
     "output_type": "stream",
     "text": [
      "['Self Help', 'Psychology', 'Data Science']\n"
     ]
    }
   ],
   "source": [
    "# make a new_list list by breaking down string_courses\n",
    "new_list = string_courses.split(' , ')\n",
    "print(new_list)"
   ]
  },
  {
   "cell_type": "code",
   "execution_count": 123,
   "metadata": {},
   "outputs": [
    {
     "name": "stdout",
     "output_type": "stream",
     "text": [
      "['Self Help', 'Fiction', 'Data Science']\n"
     ]
    }
   ],
   "source": [
    "# replace the second course in the list with another course\n",
    "courses[1] = 'Fiction'\n",
    "print(courses)"
   ]
  },
  {
   "cell_type": "code",
   "execution_count": 132,
   "metadata": {},
   "outputs": [
    {
     "name": "stdout",
     "output_type": "stream",
     "text": [
      "{'Mom', 'Wife', 'Dog', 'Dad'}\n"
     ]
    }
   ],
   "source": [
    "# Sets\n",
    "family_members = {'Dad', 'Mom', 'Wife', 'Dog'}\n",
    "print(family_members)\n",
    "# sets do not care about the order. They are represented by curly braces"
   ]
  },
  {
   "cell_type": "code",
   "execution_count": 142,
   "metadata": {},
   "outputs": [
    {
     "name": "stdout",
     "output_type": "stream",
     "text": [
      "{'Math'}\n"
     ]
    }
   ],
   "source": [
    "# make two sets courses_1 and courses_2 with a few common courses and print the common courses\n",
    "courses_1 = {'Math', 'Art', 'History'}\n",
    "courses_2 = {'Physics', 'Math', 'Chemistry'}\n",
    "print(courses_1.intersection(courses_2))"
   ]
  },
  {
   "cell_type": "code",
   "execution_count": 136,
   "metadata": {},
   "outputs": [
    {
     "name": "stdout",
     "output_type": "stream",
     "text": [
      "{'Chemistry', 'Physics'}\n"
     ]
    }
   ],
   "source": [
    "# print the courses that are in courses_2 not available in courses_1\n",
    "print(courses_2.difference(courses_1))"
   ]
  },
  {
   "cell_type": "code",
   "execution_count": 138,
   "metadata": {},
   "outputs": [
    {
     "name": "stdout",
     "output_type": "stream",
     "text": [
      "{'Chemistry', 'Physics', 'Art', 'History', 'Math'}\n"
     ]
    }
   ],
   "source": [
    "# print all the available courses in both courses_1 and courses_2\n",
    "print(courses_2.union(courses_1))"
   ]
  },
  {
   "cell_type": "code",
   "execution_count": 143,
   "metadata": {},
   "outputs": [
    {
     "name": "stdout",
     "output_type": "stream",
     "text": [
      "{'Chemistry', 'Physics', 'History', 'Art'}\n"
     ]
    }
   ],
   "source": [
    "# print all the courses from courses_1 and courses_2 except the common courses\n",
    "print((courses_2.difference(courses_1)).union(courses_1.difference(courses_2)))"
   ]
  },
  {
   "cell_type": "code",
   "execution_count": 144,
   "metadata": {},
   "outputs": [],
   "source": [
    "# creating empty list, tuple and set\n",
    "\n",
    "# list\n",
    "lis = {}\n",
    "lis = list()\n",
    "\n",
    "# tuple\n",
    "tup = ()\n",
    "tup = tuple()\n",
    "\n",
    "# set\n",
    "set_1 = set()\n"
   ]
  },
  {
   "cell_type": "code",
   "execution_count": 146,
   "metadata": {},
   "outputs": [
    {
     "name": "stdout",
     "output_type": "stream",
     "text": [
      "['10', '30', '50', '70', '90']\n"
     ]
    }
   ],
   "source": [
    "# print the alternate numbers in the list_of_nums using start:stop:step\n",
    "# list_of_nums = ['10', '20', '30','40','50', '60', '70', '80', '90', '100']\n",
    "list_of_nums = ['10', '20', '30','40','50', '60', '70', '80', '90', '100']\n",
    "print(list_of_nums[::2])"
   ]
  },
  {
   "cell_type": "code",
   "execution_count": 147,
   "metadata": {},
   "outputs": [
    {
     "name": "stdout",
     "output_type": "stream",
     "text": [
      "['I', 'am', 'bad', 'at', 'overwatch']\n",
      "I am bad at overwatch\n"
     ]
    }
   ],
   "source": [
    "# Extra:\n",
    "a_list = [\"I\", \"at\", \"overwatch\"]\n",
    "b_list = [\"am\", \"bad\"]\n",
    "\n",
    "a_list [1:1] = b_list # This is same as a_list = a_list[:1] + b_list + a_list[1:]\n",
    "c_list = \" \".join(a_list)\n",
    "\n",
    "print(a_list)\n",
    "print(c_list)"
   ]
  },
  {
   "cell_type": "code",
   "execution_count": null,
   "metadata": {},
   "outputs": [],
   "source": []
  }
 ],
 "metadata": {
  "kernelspec": {
   "display_name": "Python 3",
   "language": "python",
   "name": "python3"
  },
  "language_info": {
   "codemirror_mode": {
    "name": "ipython",
    "version": 3
   },
   "file_extension": ".py",
   "mimetype": "text/x-python",
   "name": "python",
   "nbconvert_exporter": "python",
   "pygments_lexer": "ipython3",
   "version": "3.8.0"
  }
 },
 "nbformat": 4,
 "nbformat_minor": 4
}
