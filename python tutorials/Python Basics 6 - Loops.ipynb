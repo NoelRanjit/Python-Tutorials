{
 "cells": [
  {
   "cell_type": "code",
   "execution_count": 2,
   "metadata": {},
   "outputs": [
    {
     "name": "stdout",
     "output_type": "stream",
     "text": [
      "1\n",
      "2\n",
      "3\n",
      "4\n",
      "5\n"
     ]
    }
   ],
   "source": [
    "# numbers = [1,2,3,4,5]. print each number separately in a new line using loop\n",
    "numbers = [1,2,3,4,5]\n",
    "for item in numbers:\n",
    "    print(item)"
   ]
  },
  {
   "cell_type": "code",
   "execution_count": 6,
   "metadata": {},
   "outputs": [
    {
     "name": "stdout",
     "output_type": "stream",
     "text": [
      "1\n",
      "2\n",
      "3\n"
     ]
    }
   ],
   "source": [
    "# discontinue the loop when the number reaches 3. print all the numbers until 3\n",
    "for item in numbers:\n",
    "    if item == 3:\n",
    "        print(item)\n",
    "        break\n",
    "    print(item)"
   ]
  },
  {
   "cell_type": "code",
   "execution_count": 7,
   "metadata": {},
   "outputs": [
    {
     "name": "stdout",
     "output_type": "stream",
     "text": [
      "1\n",
      "2\n",
      "You have reached the middle value\n",
      "4\n",
      "5\n"
     ]
    }
   ],
   "source": [
    "# when the nummber reaches 3 print 'you have reached the middle value'. print all the numbers\n",
    "for item in numbers:\n",
    "    if item == 3:\n",
    "        print('You have reached the middle value')\n",
    "        continue\n",
    "    print(item)"
   ]
  },
  {
   "cell_type": "code",
   "execution_count": 9,
   "metadata": {},
   "outputs": [
    {
     "name": "stdout",
     "output_type": "stream",
     "text": [
      "Noel Ranjit\n",
      "Noel Fabian\n",
      "Noel Karki\n",
      "Tiffanie Ranjit\n",
      "Tiffanie Fabian\n",
      "Tiffanie Karki\n",
      "Prashant Ranjit\n",
      "Prashant Fabian\n",
      "Prashant Karki\n"
     ]
    }
   ],
   "source": [
    "# first_names = ['Noel', 'Tiffanie', 'Prashant']. last_names = ['Ranjit', 'Fabian', 'Karki']\n",
    "# print each first name with every combination of last name\n",
    "first_names = ['Noel', 'Tiffanie', 'Prashant']\n",
    "last_names = ['Ranjit', 'Fabian', 'Karki']\n",
    "for first in first_names:\n",
    "    for last in last_names:\n",
    "        print(first, last)"
   ]
  },
  {
   "cell_type": "code",
   "execution_count": 18,
   "metadata": {},
   "outputs": [
    {
     "name": "stdout",
     "output_type": "stream",
     "text": [
      "0\n",
      "1\n",
      "2\n",
      "3\n",
      "4\n",
      "5\n",
      "6\n",
      "7\n",
      "8\n",
      "9\n",
      "10\n"
     ]
    }
   ],
   "source": [
    "# print numbers 0 to 10\n",
    "for i in range(11):\n",
    "    print(i)"
   ]
  },
  {
   "cell_type": "code",
   "execution_count": 13,
   "metadata": {},
   "outputs": [
    {
     "name": "stdout",
     "output_type": "stream",
     "text": [
      "3\n",
      "4\n",
      "5\n",
      "6\n",
      "7\n",
      "8\n",
      "9\n",
      "10\n"
     ]
    }
   ],
   "source": [
    "# print nnumbers 3 to 10\n",
    "for i in range(3,11):\n",
    "    print(i)"
   ]
  },
  {
   "cell_type": "code",
   "execution_count": 16,
   "metadata": {},
   "outputs": [
    {
     "name": "stdout",
     "output_type": "stream",
     "text": [
      "0\n",
      "1\n",
      "2\n",
      "3\n",
      "4\n",
      "5\n",
      "6\n",
      "7\n",
      "8\n",
      "9\n",
      "10\n"
     ]
    }
   ],
   "source": [
    "# print numbers 0 to 10. while\n",
    "x=0\n",
    "while x<=10:\n",
    "    print(x)\n",
    "    x = x + 1"
   ]
  },
  {
   "cell_type": "code",
   "execution_count": null,
   "metadata": {},
   "outputs": [],
   "source": []
  }
 ],
 "metadata": {
  "kernelspec": {
   "display_name": "Python 3",
   "language": "python",
   "name": "python3"
  },
  "language_info": {
   "codemirror_mode": {
    "name": "ipython",
    "version": 3
   },
   "file_extension": ".py",
   "mimetype": "text/x-python",
   "name": "python",
   "nbconvert_exporter": "python",
   "pygments_lexer": "ipython3",
   "version": "3.8.0"
  }
 },
 "nbformat": 4,
 "nbformat_minor": 4
}
