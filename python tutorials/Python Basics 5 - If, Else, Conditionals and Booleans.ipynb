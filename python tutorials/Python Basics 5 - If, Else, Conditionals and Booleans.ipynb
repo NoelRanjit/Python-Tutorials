{
 "cells": [
  {
   "cell_type": "code",
   "execution_count": 3,
   "metadata": {},
   "outputs": [
    {
     "name": "stdout",
     "output_type": "stream",
     "text": [
      "50points\n"
     ]
    }
   ],
   "source": [
    "# age = __ . if age <= 12, print 20points, if age <=30 print 50points. otherwise 70points\n",
    "age = 26\n",
    "if age <=12:\n",
    "    print('20points')\n",
    "elif age <=30:\n",
    "    print('50points')\n",
    "else:\n",
    "    print('70points')"
   ]
  },
  {
   "cell_type": "code",
   "execution_count": 8,
   "metadata": {},
   "outputs": [
    {
     "name": "stdout",
     "output_type": "stream",
     "text": [
      "You can ride the deathcoaster\n"
     ]
    }
   ],
   "source": [
    "# height = __, age = __ if height > 5 and age >= 18. print 'You can ride the deathcoaster'. \n",
    "# otherwise print 'You are not eligible'\n",
    "height = 6.2\n",
    "age = 18\n",
    "if height > 5 and age >= 18:\n",
    "    print('You can ride the deathcoaster')\n",
    "else:\n",
    "    print ('You are not eligible')"
   ]
  },
  {
   "cell_type": "code",
   "execution_count": 11,
   "metadata": {},
   "outputs": [
    {
     "name": "stdout",
     "output_type": "stream",
     "text": [
      "need to take better care of my luxury bones\n"
     ]
    }
   ],
   "source": [
    "# Teeth = 'needs brushing', brushed = true/false. In case its brushed, print 'I love my teeth' \n",
    "# otherwise  print 'need to take better care of my luxury bones'\n",
    "teeth = 'needs brushing'\n",
    "brushed = False\n",
    "if teeth == 'needs brushing' and brushed:\n",
    "    print('I love my teeth')\n",
    "else:\n",
    "    print('need to take better care of my luxury bones')   "
   ]
  },
  {
   "cell_type": "code",
   "execution_count": 22,
   "metadata": {},
   "outputs": [
    {
     "name": "stdout",
     "output_type": "stream",
     "text": [
      "True\n",
      "False\n",
      "82820328\n",
      "66417288\n",
      "True\n",
      "True\n"
     ]
    }
   ],
   "source": [
    "# Notes\n",
    "a = [1,2,3]\n",
    "b = [1,2,3]\n",
    "c = b\n",
    "\n",
    "print(a == b)\n",
    "# this returns true because their values are equal\n",
    "\n",
    "print(a is b)\n",
    "# thsi returns false because they are two different objects in memory\n",
    "\n",
    "print(id(a))\n",
    "print(id(b))\n",
    "\n",
    "print(b == c)\n",
    "# this returns true because their values are equal\n",
    "\n",
    "print(b is c)\n",
    "# thsi returns false because they are the same object in memory"
   ]
  },
  {
   "cell_type": "code",
   "execution_count": null,
   "metadata": {},
   "outputs": [],
   "source": []
  }
 ],
 "metadata": {
  "kernelspec": {
   "display_name": "Python 3",
   "language": "python",
   "name": "python3"
  },
  "language_info": {
   "codemirror_mode": {
    "name": "ipython",
    "version": 3
   },
   "file_extension": ".py",
   "mimetype": "text/x-python",
   "name": "python",
   "nbconvert_exporter": "python",
   "pygments_lexer": "ipython3",
   "version": "3.8.0"
  }
 },
 "nbformat": 4,
 "nbformat_minor": 4
}
