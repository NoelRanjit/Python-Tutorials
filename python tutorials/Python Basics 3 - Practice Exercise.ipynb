{
 "cells": [
  {
   "cell_type": "code",
   "execution_count": 12,
   "metadata": {},
   "outputs": [
    {
     "name": "stdout",
     "output_type": "stream",
     "text": [
      "['Juggling', 'Coding', 'Exercising']\n",
      "Exercising\n",
      "3\n"
     ]
    }
   ],
   "source": [
    "# Write down a list of your hobbies and :\n",
    "# 1 print the entire list\n",
    "# 2 print the thrid item in the list\n",
    "# length of the list\n",
    "hobbies = ['Juggling' , 'Coding' , 'Exercising']\n",
    "print(hobbies)\n",
    "print(hobbies[2])\n",
    "print(len(hobbies))"
   ]
  },
  {
   "cell_type": "code",
   "execution_count": 13,
   "metadata": {},
   "outputs": [
    {
     "name": "stdout",
     "output_type": "stream",
     "text": [
      "['Juggling', 'Coding', 'Exercising', 'Reading']\n"
     ]
    }
   ],
   "source": [
    "# add new hobby to the list\n",
    "hobbies.append('Reading')\n",
    "print(hobbies)"
   ]
  },
  {
   "cell_type": "code",
   "execution_count": 14,
   "metadata": {},
   "outputs": [
    {
     "name": "stdout",
     "output_type": "stream",
     "text": [
      "['Juggling', 'Overwatch', 'Coding', 'Exercising', 'Reading']\n"
     ]
    }
   ],
   "source": [
    "### add another new hobby as the second item in the list\n",
    "hobbies.insert(1, 'Overwatch')\n",
    "print(hobbies)"
   ]
  },
  {
   "cell_type": "code",
   "execution_count": 15,
   "metadata": {},
   "outputs": [
    {
     "name": "stdout",
     "output_type": "stream",
     "text": [
      "['Juggling', 'Overwatch', 'Coding', 'Exercising', 'Reading', 'Youtube', 'Porn']\n"
     ]
    }
   ],
   "source": [
    "# make a new list hobbies_2 and include the items from this list to a pre-existing hobbies list\n",
    "hobbies_2 = ['Youtube',  'Porn']\n",
    "hobbies.extend(hobbies_2)\n",
    "print(hobbies)"
   ]
  },
  {
   "cell_type": "code",
   "execution_count": 18,
   "metadata": {},
   "outputs": [
    {
     "name": "stdout",
     "output_type": "stream",
     "text": [
      "['Juggling', 'Overwatch', 'Coding', 'Exercising', 'Reading', 'Youtube']\n"
     ]
    }
   ],
   "source": [
    "### get rid of one of the hobbies\n",
    "hobbies.remove('Porn')\n",
    "print(hobbies)"
   ]
  },
  {
   "cell_type": "code",
   "execution_count": 19,
   "metadata": {},
   "outputs": [
    {
     "name": "stdout",
     "output_type": "stream",
     "text": [
      "['Juggling', 'Overwatch', 'Coding', 'Exercising', 'Reading']\n",
      "Youtube\n"
     ]
    }
   ],
   "source": [
    "# get rid of the last value of the list\n",
    "# print the course that was removed\n",
    "removed = hobbies.pop()\n",
    "print(hobbies)\n",
    "print(removed)"
   ]
  },
  {
   "cell_type": "code",
   "execution_count": 22,
   "metadata": {},
   "outputs": [
    {
     "name": "stdout",
     "output_type": "stream",
     "text": [
      "['Reading', 'Exercising', 'Coding', 'Overwatch', 'Juggling']\n"
     ]
    }
   ],
   "source": [
    "# reverse the order of the hobbies\n",
    "hobbies.reverse()\n",
    "print(hobbies)"
   ]
  },
  {
   "cell_type": "code",
   "execution_count": 24,
   "metadata": {},
   "outputs": [
    {
     "name": "stdout",
     "output_type": "stream",
     "text": [
      "['Art', 'Math', 'Science']\n"
     ]
    }
   ],
   "source": [
    "# make two list courses and nums. rearrange them in ascending order\n",
    "courses = ['Math', 'Science', 'Art']\n",
    "courses.sort()\n",
    "print(courses)"
   ]
  },
  {
   "cell_type": "code",
   "execution_count": 25,
   "metadata": {},
   "outputs": [
    {
     "name": "stdout",
     "output_type": "stream",
     "text": [
      "['Science', 'Math', 'Art']\n"
     ]
    }
   ],
   "source": [
    "# rearrange courses and nums in descending order\n",
    "courses.sort(reverse = True)\n",
    "print(courses)"
   ]
  },
  {
   "cell_type": "code",
   "execution_count": 26,
   "metadata": {},
   "outputs": [
    {
     "name": "stdout",
     "output_type": "stream",
     "text": [
      "['History', 'Business', 'Psychology']\n",
      "['Business', 'History', 'Psychology']\n"
     ]
    }
   ],
   "source": [
    "# .sort() alters the original version of the list. provide the sorted value of courses in ascending order\n",
    "# also print the original courses list\n",
    "original = ['History', 'Business', 'Psychology']\n",
    "duplicate = sorted(original)\n",
    "print(original)\n",
    "print(duplicate)"
   ]
  },
  {
   "cell_type": "code",
   "execution_count": 31,
   "metadata": {},
   "outputs": [
    {
     "name": "stdout",
     "output_type": "stream",
     "text": [
      "19\n",
      "1\n",
      "9\n"
     ]
    }
   ],
   "source": [
    "# Find: 1. Sum of all nums in a list, 2. smallest number in num , 3. Greatest number in nums\n",
    "nums = [1,7,2,9]\n",
    "print(sum(nums))\n",
    "print(min(nums))\n",
    "print(max(nums))"
   ]
  },
  {
   "cell_type": "code",
   "execution_count": 35,
   "metadata": {},
   "outputs": [
    {
     "name": "stdout",
     "output_type": "stream",
     "text": [
      "0\n"
     ]
    }
   ],
   "source": [
    "# find the index of your favorite course in the list\n",
    "print(courses.index('Science'))"
   ]
  },
  {
   "cell_type": "code",
   "execution_count": 44,
   "metadata": {},
   "outputs": [
    {
     "ename": "NameError",
     "evalue": "name 'Statistics' is not defined",
     "output_type": "error",
     "traceback": [
      "\u001b[1;31m---------------------------------------------------------------------------\u001b[0m",
      "\u001b[1;31mNameError\u001b[0m                                 Traceback (most recent call last)",
      "\u001b[1;32m<ipython-input-44-7bd8b1605997>\u001b[0m in \u001b[0;36m<module>\u001b[1;34m\u001b[0m\n\u001b[0;32m      1\u001b[0m \u001b[1;31m# Check to see if Statistics is in the list of courses\u001b[0m\u001b[1;33m\u001b[0m\u001b[1;33m\u001b[0m\u001b[1;33m\u001b[0m\u001b[0m\n\u001b[1;32m----> 2\u001b[1;33m \u001b[0mprint\u001b[0m\u001b[1;33m(\u001b[0m\u001b[0mStatistics\u001b[0m \u001b[1;32min\u001b[0m \u001b[0mcourses\u001b[0m\u001b[1;33m)\u001b[0m\u001b[1;33m\u001b[0m\u001b[1;33m\u001b[0m\u001b[0m\n\u001b[0m",
      "\u001b[1;31mNameError\u001b[0m: name 'Statistics' is not defined"
     ]
    }
   ],
   "source": [
    "### Check to see if Statistics is in the list of courses\n",
    "print('Statistics' in courses)"
   ]
  },
  {
   "cell_type": "code",
   "execution_count": 40,
   "metadata": {},
   "outputs": [
    {
     "name": "stdout",
     "output_type": "stream",
     "text": [
      "Science\n",
      "Math\n",
      "Art\n"
     ]
    }
   ],
   "source": [
    "# use a for loop to print every course on the list\n",
    "for item in courses:\n",
    "    print(item)"
   ]
  },
  {
   "cell_type": "code",
   "execution_count": 42,
   "metadata": {},
   "outputs": [
    {
     "name": "stdout",
     "output_type": "stream",
     "text": [
      "0 Science\n",
      "1 Math\n",
      "2 Art\n"
     ]
    }
   ],
   "source": [
    "# use for loop to print every course on the list with their index\n",
    "for index, item in enumerate(courses):\n",
    "    print(index, item)"
   ]
  },
  {
   "cell_type": "code",
   "execution_count": 43,
   "metadata": {},
   "outputs": [
    {
     "name": "stdout",
     "output_type": "stream",
     "text": [
      "1 Science\n",
      "2 Math\n",
      "3 Art\n"
     ]
    }
   ],
   "source": [
    "# use for loop to print every course on the list with the index starting at 1\n",
    "for index, items in enumerate(courses, start = 1):\n",
    "    print(index, items)"
   ]
  },
  {
   "cell_type": "code",
   "execution_count": 45,
   "metadata": {},
   "outputs": [
    {
     "name": "stdout",
     "output_type": "stream",
     "text": [
      "Science - Math - Art\n"
     ]
    }
   ],
   "source": [
    "# show all the courses on the list as a string in a single variable string_courses\n",
    "string_courses = ' - '.join(courses)\n",
    "print(string_courses)"
   ]
  },
  {
   "cell_type": "code",
   "execution_count": 47,
   "metadata": {},
   "outputs": [
    {
     "name": "stdout",
     "output_type": "stream",
     "text": [
      "['Science', 'Math', 'Art']\n"
     ]
    }
   ],
   "source": [
    "# make a new_list list by breaking down string_courses\n",
    "new_list = string_courses.split(' - ')\n",
    "print(new_list)"
   ]
  },
  {
   "cell_type": "code",
   "execution_count": 48,
   "metadata": {},
   "outputs": [
    {
     "name": "stdout",
     "output_type": "stream",
     "text": [
      "['Science', 'Mystery', 'Art']\n"
     ]
    }
   ],
   "source": [
    "# replace the second course in the list with another course\n",
    "courses[1] = 'Mystery'\n",
    "print(courses)"
   ]
  },
  {
   "cell_type": "code",
   "execution_count": 49,
   "metadata": {},
   "outputs": [
    {
     "name": "stdout",
     "output_type": "stream",
     "text": [
      "{'Math'}\n"
     ]
    }
   ],
   "source": [
    "# make two sets courses_1 and courses_2 with a few common courses and print the common courses\n",
    "courses_1 = {'Math', 'Art', 'History'}\n",
    "courses_2 = {'Sciene', 'Math', 'Ecommerce'}\n",
    "print(courses_1.intersection(courses_2))"
   ]
  },
  {
   "cell_type": "code",
   "execution_count": 50,
   "metadata": {},
   "outputs": [
    {
     "name": "stdout",
     "output_type": "stream",
     "text": [
      "{'Sciene', 'Ecommerce'}\n"
     ]
    }
   ],
   "source": [
    "# print the courses that are in courses_2 not available in courses_1\n",
    "print(courses_2.difference(courses_1))"
   ]
  },
  {
   "cell_type": "code",
   "execution_count": 51,
   "metadata": {},
   "outputs": [
    {
     "name": "stdout",
     "output_type": "stream",
     "text": [
      "{'Sciene', 'History', 'Art', 'Ecommerce', 'Math'}\n"
     ]
    }
   ],
   "source": [
    "# print all the available courses in both courses_1 and courses_2\n",
    "print(courses_1.union(courses_2))"
   ]
  },
  {
   "cell_type": "code",
   "execution_count": 52,
   "metadata": {},
   "outputs": [
    {
     "name": "stdout",
     "output_type": "stream",
     "text": [
      "{'Sciene', 'Art', 'Ecommerce', 'History'}\n"
     ]
    }
   ],
   "source": [
    "# print all the courses from courses_1 and courses_2 except the common courses\n",
    "print(courses_1.difference(courses_2).union(courses_2.difference(courses_1)))"
   ]
  },
  {
   "cell_type": "code",
   "execution_count": 53,
   "metadata": {},
   "outputs": [
    {
     "name": "stdout",
     "output_type": "stream",
     "text": [
      "['10', '30', '50', '70', '90']\n"
     ]
    }
   ],
   "source": [
    "# print the alternate numbers in the list_of_nums using start:stop:step\n",
    "# list_of_nums = ['10', '20', '30','40','50', '60', '70', '80', '90', '100']\n",
    "list_of_nums = ['10', '20', '30','40','50', '60', '70', '80', '90', '100']\n",
    "print(list_of_nums[::2])"
   ]
  },
  {
   "cell_type": "code",
   "execution_count": null,
   "metadata": {},
   "outputs": [],
   "source": []
  }
 ],
 "metadata": {
  "kernelspec": {
   "display_name": "Python 3",
   "language": "python",
   "name": "python3"
  },
  "language_info": {
   "codemirror_mode": {
    "name": "ipython",
    "version": 3
   },
   "file_extension": ".py",
   "mimetype": "text/x-python",
   "name": "python",
   "nbconvert_exporter": "python",
   "pygments_lexer": "ipython3",
   "version": "3.8.0"
  }
 },
 "nbformat": 4,
 "nbformat_minor": 4
}
