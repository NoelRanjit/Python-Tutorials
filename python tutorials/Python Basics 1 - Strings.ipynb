{
 "cells": [
  {
   "cell_type": "code",
   "execution_count": 70,
   "metadata": {},
   "outputs": [
    {
     "name": "stdout",
     "output_type": "stream",
     "text": [
      "Hello World\n"
     ]
    }
   ],
   "source": [
    "# How to make a folder and py file in a project\n",
    "# How to run the file. Shortcut for running the file\n",
    "# Shortcut for commenting/uncommenting the highlighted lines is ctrl+/\n",
    "\n",
    "# print hello world in the print funciton\n",
    "# type here\n",
    "print(\"Hello World\")"
   ]
  },
  {
   "cell_type": "code",
   "execution_count": 2,
   "metadata": {},
   "outputs": [],
   "source": [
    "# represent Hello World using different quotations\n",
    "print('Hello World')"
   ]
  },
  {
   "cell_type": "code",
   "execution_count": 25,
   "metadata": {},
   "outputs": [
    {
     "name": "stdout",
     "output_type": "stream",
     "text": [
      "Hello World\n"
     ]
    }
   ],
   "source": [
    "# print hello world by printing the variable that stores it\n",
    "greeting = 'Hello World'\n",
    "print(greeting)"
   ]
  },
  {
   "cell_type": "code",
   "execution_count": 4,
   "metadata": {},
   "outputs": [],
   "source": [
    "# Note : when you wnat to name a vairable with two words, they should be separated by an underscore by convention.\n",
    "# for example my_message instead of my message "
   ]
  },
  {
   "cell_type": "code",
   "execution_count": 26,
   "metadata": {},
   "outputs": [
    {
     "name": "stdout",
     "output_type": "stream",
     "text": [
      "25\n"
     ]
    }
   ],
   "source": [
    "# print number 25 in the print function\n",
    "print(25)"
   ]
  },
  {
   "cell_type": "code",
   "execution_count": 27,
   "metadata": {},
   "outputs": [
    {
     "name": "stdout",
     "output_type": "stream",
     "text": [
      "25\n"
     ]
    }
   ],
   "source": [
    "# print number 25 by printing the variable that stores it\n",
    "num = 25\n",
    "print(num)"
   ]
  },
  {
   "cell_type": "code",
   "execution_count": 29,
   "metadata": {},
   "outputs": [],
   "source": [
    "# find the length of message. use variable named message\n",
    "message = 'Hello Noel'"
   ]
  },
  {
   "cell_type": "code",
   "execution_count": 30,
   "metadata": {},
   "outputs": [
    {
     "name": "stdout",
     "output_type": "stream",
     "text": [
      "l\n"
     ]
    }
   ],
   "source": [
    "# find the third index of message\n",
    "print(message[2])"
   ]
  },
  {
   "cell_type": "code",
   "execution_count": 31,
   "metadata": {},
   "outputs": [
    {
     "name": "stdout",
     "output_type": "stream",
     "text": [
      "Hello\n"
     ]
    }
   ],
   "source": [
    "# Using indexing, only print Hello\n",
    "print(message[:5])"
   ]
  },
  {
   "cell_type": "code",
   "execution_count": 32,
   "metadata": {},
   "outputs": [
    {
     "name": "stdout",
     "output_type": "stream",
     "text": [
      "l\n"
     ]
    }
   ],
   "source": [
    "# What does print(message[-1]) display?\n",
    "the last letter l"
   ]
  },
  {
   "cell_type": "code",
   "execution_count": 33,
   "metadata": {},
   "outputs": [
    {
     "name": "stdout",
     "output_type": "stream",
     "text": [
      "llo Noe\n"
     ]
    }
   ],
   "source": [
    "# What does print(message[2:-1]) display?\n",
    "llo Noe"
   ]
  },
  {
   "cell_type": "code",
   "execution_count": 34,
   "metadata": {},
   "outputs": [
    {
     "name": "stdout",
     "output_type": "stream",
     "text": [
      "Nepal\n"
     ]
    }
   ],
   "source": [
    "# Using indexing, print only Nepal from namaste = 'Hello Nepal'\n",
    "namaste = 'Hello Nepal'\n",
    "print(namaste[6:])"
   ]
  },
  {
   "cell_type": "code",
   "execution_count": 36,
   "metadata": {},
   "outputs": [
    {
     "name": "stdout",
     "output_type": "stream",
     "text": [
      "HELLO NOEL\n",
      "hello noel\n"
     ]
    }
   ],
   "source": [
    "# Lower and upper case message\n",
    "print(message.upper())\n",
    "print(message.lower())"
   ]
  },
  {
   "cell_type": "code",
   "execution_count": 42,
   "metadata": {},
   "outputs": [
    {
     "name": "stdout",
     "output_type": "stream",
     "text": [
      "3\n"
     ]
    }
   ],
   "source": [
    "# How many a's are there in name_1 = 'Prashant Karki'?\n",
    "name_1 = 'Prashant Karki'\n",
    "print(name_1.count('a'))"
   ]
  },
  {
   "cell_type": "code",
   "execution_count": 45,
   "metadata": {},
   "outputs": [
    {
     "name": "stdout",
     "output_type": "stream",
     "text": [
      "2\n"
     ]
    }
   ],
   "source": [
    "# What is the index of the first 'p' in animal = 'hippopotamus'?\n",
    "animal = 'hippopotamus'\n",
    "print(animal.index('p'))"
   ]
  },
  {
   "cell_type": "code",
   "execution_count": 46,
   "metadata": {},
   "outputs": [
    {
     "name": "stdout",
     "output_type": "stream",
     "text": [
      "3\n"
     ]
    }
   ],
   "source": [
    "# How many p's are there in hippopotamus?\n",
    "print(animal.count('p'))"
   ]
  },
  {
   "cell_type": "code",
   "execution_count": 50,
   "metadata": {},
   "outputs": [
    {
     "name": "stdout",
     "output_type": "stream",
     "text": [
      "Hello Tiffanie\n"
     ]
    }
   ],
   "source": [
    "### Replace my_name = 'Hello Noel' with Hello Tiffanie\n",
    "my_name = 'Hello Noel'\n",
    "my_name = my_name.replace('Noel', 'Tiffanie')\n",
    "print(my_name)"
   ]
  },
  {
   "cell_type": "code",
   "execution_count": 51,
   "metadata": {},
   "outputs": [
    {
     "name": "stdout",
     "output_type": "stream",
     "text": [
      "Sarju Ranjit\n"
     ]
    }
   ],
   "source": [
    "# Write the first name and last name of your father in two different variables. Use a third variable to store the full name by concatenation\n",
    "first_name = 'Sarju'\n",
    "last_name = 'Ranjit'\n",
    "full_name = 'Sarju' + ' ' + 'Ranjit'\n",
    "print(full_name)"
   ]
  },
  {
   "cell_type": "code",
   "execution_count": 53,
   "metadata": {},
   "outputs": [
    {
     "name": "stdout",
     "output_type": "stream",
     "text": [
      "My dad's full name is Sarju Ranjit\n"
     ]
    }
   ],
   "source": [
    "# dad_full_name = \"My dad's full name is\" using concatenation show your dad_name = \"My dad's full name is __ __\"\n",
    "dad_full_name = \"My dad's full name is\"\n",
    "print(dad_name + \" Sarju Ranjit\")"
   ]
  },
  {
   "cell_type": "code",
   "execution_count": 63,
   "metadata": {},
   "outputs": [
    {
     "name": "stdout",
     "output_type": "stream",
     "text": [
      "My Mom's full name is Samita Shrestha \n"
     ]
    }
   ],
   "source": [
    "### Print mom_name = 'My mom's full name is Samita Shrestha\" using formatting\n",
    "mom_name = 'Samita Shrestha'\n",
    "print(f\"My Mom's full name is {mom_name} \")"
   ]
  },
  {
   "cell_type": "code",
   "execution_count": 64,
   "metadata": {},
   "outputs": [
    {
     "name": "stdout",
     "output_type": "stream",
     "text": [
      "My dog's name is Jellybean\n"
     ]
    }
   ],
   "source": [
    "### Print My dog's name is Jellybean by using alternate formatting\n",
    "dog_name = 'Jellybean'\n",
    "print(\"My dog's name is {}\".format(dog_name))"
   ]
  },
  {
   "cell_type": "code",
   "execution_count": 66,
   "metadata": {},
   "outputs": [
    {
     "name": "stdout",
     "output_type": "stream",
     "text": [
      "My cat's name is Prissy\n"
     ]
    }
   ],
   "source": [
    "### Print My cat's name is Prissy with formatting and passing as a tuple\n",
    "cat_name = 'Prissy'\n",
    "print(\"My cat's name is %s\" % cat_name)"
   ]
  },
  {
   "cell_type": "code",
   "execution_count": 67,
   "metadata": {},
   "outputs": [
    {
     "name": "stdout",
     "output_type": "stream",
     "text": [
      "Cheese\n",
      "Burger\n"
     ]
    }
   ],
   "source": [
    "# Print Cheese burger stored in two different variables printed separately\n",
    "one = 'Cheese'\n",
    "two = 'Burger'\n",
    "print(one)\n",
    "print(two)"
   ]
  },
  {
   "cell_type": "code",
   "execution_count": 69,
   "metadata": {},
   "outputs": [
    {
     "name": "stdout",
     "output_type": "stream",
     "text": [
      "Cheese\n",
      "Burger\n"
     ]
    }
   ],
   "source": [
    "# Use Print funtion on cheese burger in a single line but printed in two differnt lines(use escape character)\n",
    "print('Cheese\\nBurger')"
   ]
  },
  {
   "cell_type": "code",
   "execution_count": null,
   "metadata": {},
   "outputs": [],
   "source": []
  }
 ],
 "metadata": {
  "kernelspec": {
   "display_name": "Python 3",
   "language": "python",
   "name": "python3"
  },
  "language_info": {
   "codemirror_mode": {
    "name": "ipython",
    "version": 3
   },
   "file_extension": ".py",
   "mimetype": "text/x-python",
   "name": "python",
   "nbconvert_exporter": "python",
   "pygments_lexer": "ipython3",
   "version": "3.8.0"
  }
 },
 "nbformat": 4,
 "nbformat_minor": 4
}
