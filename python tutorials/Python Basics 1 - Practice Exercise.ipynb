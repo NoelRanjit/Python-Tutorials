{
 "cells": [
  {
   "cell_type": "code",
   "execution_count": 2,
   "metadata": {},
   "outputs": [
    {
     "name": "stdout",
     "output_type": "stream",
     "text": [
      "Hello World\n"
     ]
    }
   ],
   "source": [
    "# print hello world in the print funciton\n",
    "# type here\n",
    "print('Hello World')"
   ]
  },
  {
   "cell_type": "code",
   "execution_count": 3,
   "metadata": {},
   "outputs": [
    {
     "name": "stdout",
     "output_type": "stream",
     "text": [
      "Hello World\n"
     ]
    }
   ],
   "source": [
    "# represent Hello World using different quotations\n",
    "print(\"Hello World\")"
   ]
  },
  {
   "cell_type": "code",
   "execution_count": 4,
   "metadata": {},
   "outputs": [
    {
     "name": "stdout",
     "output_type": "stream",
     "text": [
      "Hello World\n"
     ]
    }
   ],
   "source": [
    "# greeeting = 'Hello World'. print hello world by printing the variable that stores it\n",
    "greeting = 'Hello World'\n",
    "print(greeting)"
   ]
  },
  {
   "cell_type": "code",
   "execution_count": null,
   "metadata": {},
   "outputs": [],
   "source": [
    "# Note : when you wnat to name a vairable with two words, they should be separated by an underscore by convention.\n",
    "# for example my_message instead of my message "
   ]
  },
  {
   "cell_type": "code",
   "execution_count": 5,
   "metadata": {},
   "outputs": [
    {
     "name": "stdout",
     "output_type": "stream",
     "text": [
      "25\n"
     ]
    }
   ],
   "source": [
    "# print number 25 in the print function\n",
    "print(25)"
   ]
  },
  {
   "cell_type": "code",
   "execution_count": 6,
   "metadata": {},
   "outputs": [
    {
     "name": "stdout",
     "output_type": "stream",
     "text": [
      "25\n"
     ]
    }
   ],
   "source": [
    "# num = 25. print 25 by printing the variable that stores it\n",
    "num = 25\n",
    "print(num)"
   ]
  },
  {
   "cell_type": "code",
   "execution_count": 9,
   "metadata": {},
   "outputs": [
    {
     "name": "stdout",
     "output_type": "stream",
     "text": [
      "17\n"
     ]
    }
   ],
   "source": [
    "# message = 'This is a message' . find the length of message. use variable named message\n",
    "message = 'This is a message'\n",
    "print(len(message))"
   ]
  },
  {
   "cell_type": "code",
   "execution_count": 10,
   "metadata": {},
   "outputs": [
    {
     "name": "stdout",
     "output_type": "stream",
     "text": [
      "i\n"
     ]
    }
   ],
   "source": [
    "# find the third index of message\n",
    "print(message[2])"
   ]
  },
  {
   "cell_type": "code",
   "execution_count": 11,
   "metadata": {},
   "outputs": [
    {
     "name": "stdout",
     "output_type": "stream",
     "text": [
      "Hello\n"
     ]
    }
   ],
   "source": [
    "# Using indexing, only print Hello from greeting\n",
    "print(greeting[:5])"
   ]
  },
  {
   "cell_type": "code",
   "execution_count": 12,
   "metadata": {},
   "outputs": [
    {
     "name": "stdout",
     "output_type": "stream",
     "text": [
      "e\n"
     ]
    }
   ],
   "source": [
    "# Q: What does print(message[-1]) display?\n",
    "# A: e"
   ]
  },
  {
   "cell_type": "code",
   "execution_count": 13,
   "metadata": {},
   "outputs": [
    {
     "name": "stdout",
     "output_type": "stream",
     "text": [
      "is is a messag\n"
     ]
    }
   ],
   "source": [
    "# Q : What does print(message[2:-1]) display?\n",
    "# A : is is a messag"
   ]
  },
  {
   "cell_type": "code",
   "execution_count": 15,
   "metadata": {},
   "outputs": [
    {
     "name": "stdout",
     "output_type": "stream",
     "text": [
      "Nepal\n"
     ]
    }
   ],
   "source": [
    "# Using indexing, print only Nepal from namaste = 'Hello Nepal'\n",
    "namaste = 'Hello Nepal'\n",
    "print(namaste[6:])"
   ]
  },
  {
   "cell_type": "code",
   "execution_count": 17,
   "metadata": {},
   "outputs": [
    {
     "name": "stdout",
     "output_type": "stream",
     "text": [
      "THIS IS A MESSAGE\n",
      "this is a message\n"
     ]
    }
   ],
   "source": [
    "# Lower and upper case message\n",
    "print(message.upper())\n",
    "print(message.lower())"
   ]
  },
  {
   "cell_type": "code",
   "execution_count": 18,
   "metadata": {},
   "outputs": [
    {
     "name": "stdout",
     "output_type": "stream",
     "text": [
      "3\n"
     ]
    }
   ],
   "source": [
    "# How many a's are there in name_1 = 'Prashant Karki'?\n",
    "name_1 = 'Prashant Karki'\n",
    "print(name_1.count('a'))"
   ]
  },
  {
   "cell_type": "code",
   "execution_count": 19,
   "metadata": {},
   "outputs": [
    {
     "name": "stdout",
     "output_type": "stream",
     "text": [
      "2\n"
     ]
    }
   ],
   "source": [
    "# What is the index of the first 'p' in animal = 'hippopotamus'?\n",
    "animal = 'hippopotamus'\n",
    "print(animal.index('p'))"
   ]
  },
  {
   "cell_type": "code",
   "execution_count": 20,
   "metadata": {},
   "outputs": [
    {
     "name": "stdout",
     "output_type": "stream",
     "text": [
      "3\n"
     ]
    }
   ],
   "source": [
    "# How many p's are there in hippopotamus?\n",
    "print(animal.count('p'))"
   ]
  },
  {
   "cell_type": "code",
   "execution_count": 21,
   "metadata": {},
   "outputs": [
    {
     "name": "stdout",
     "output_type": "stream",
     "text": [
      "Hello Tiffanie\n",
      "Hello Noel\n"
     ]
    }
   ],
   "source": [
    "### Replace my_name = 'Hello Noel' with Hello Tiffanie\n",
    "my_name = 'Hello Noel'\n",
    "print(my_name.replace('Noel', 'Tiffanie'))"
   ]
  },
  {
   "cell_type": "code",
   "execution_count": 22,
   "metadata": {},
   "outputs": [
    {
     "name": "stdout",
     "output_type": "stream",
     "text": [
      "Sarju Ranjit\n"
     ]
    }
   ],
   "source": [
    "# Write the first name and last name of your father in two different variables. Use a third variable to store the full name by concatenation\n",
    "# print the third vaiable\n",
    "dad_first = 'Sarju'\n",
    "dad_last = 'Ranjit'\n",
    "dad_full = dad_first + \" \" + dad_last\n",
    "print(dad_full)"
   ]
  },
  {
   "cell_type": "code",
   "execution_count": 24,
   "metadata": {},
   "outputs": [
    {
     "name": "stdout",
     "output_type": "stream",
     "text": [
      "My dad's full name is Sarju Ranjit\n"
     ]
    }
   ],
   "source": [
    "# dad_full_name = \"My dad's full name is\" using concatenation show your dad_name = \"My dad's full name is __ __\"\n",
    "dad_full_name = \"My dad's full name is\" \n",
    "print(dad_full_name + ' Sarju Ranjit')"
   ]
  },
  {
   "cell_type": "code",
   "execution_count": 26,
   "metadata": {},
   "outputs": [
    {
     "name": "stdout",
     "output_type": "stream",
     "text": [
      "My mom's full name is Samita Shrestha\n"
     ]
    }
   ],
   "source": [
    "### Print mom_name = 'My mom's full name is __ __\" using formatting\n",
    "mom = 'Samita Shrestha'\n",
    "print(f\"My mom's full name is {mom}\")"
   ]
  },
  {
   "cell_type": "code",
   "execution_count": 27,
   "metadata": {},
   "outputs": [
    {
     "name": "stdout",
     "output_type": "stream",
     "text": [
      "My mom's full name is Samita Shrestha\n"
     ]
    }
   ],
   "source": [
    "### Print My dog's name is Jellybean by using alternate formatting\n",
    "print(\"My mom's full name is {}\".format(mom))"
   ]
  },
  {
   "cell_type": "code",
   "execution_count": 28,
   "metadata": {},
   "outputs": [
    {
     "name": "stdout",
     "output_type": "stream",
     "text": [
      "My cat's name is Prissy \n"
     ]
    }
   ],
   "source": [
    "### Print My cat's name is Prissy with formatting and passing as a tuple\n",
    "cat_name = 'Prissy'\n",
    "print(\"My cat's name is %s \" % cat_name)"
   ]
  },
  {
   "cell_type": "code",
   "execution_count": 29,
   "metadata": {},
   "outputs": [
    {
     "name": "stdout",
     "output_type": "stream",
     "text": [
      "cheese\n",
      "burger\n"
     ]
    }
   ],
   "source": [
    "# Print Cheese burger stored in two different variables printed separately\n",
    "print('cheese')\n",
    "print('burger')"
   ]
  },
  {
   "cell_type": "code",
   "execution_count": 30,
   "metadata": {},
   "outputs": [
    {
     "name": "stdout",
     "output_type": "stream",
     "text": [
      "cheese\n",
      "burger\n"
     ]
    }
   ],
   "source": [
    "# Use Print funtion on cheese burger in a single line but printed in two differnt lines(use escape character)\n",
    "print('cheese\\nburger')"
   ]
  },
  {
   "cell_type": "code",
   "execution_count": null,
   "metadata": {},
   "outputs": [],
   "source": []
  }
 ],
 "metadata": {
  "kernelspec": {
   "display_name": "Python 3",
   "language": "python",
   "name": "python3"
  },
  "language_info": {
   "codemirror_mode": {
    "name": "ipython",
    "version": 3
   },
   "file_extension": ".py",
   "mimetype": "text/x-python",
   "name": "python",
   "nbconvert_exporter": "python",
   "pygments_lexer": "ipython3",
   "version": "3.8.0"
  }
 },
 "nbformat": 4,
 "nbformat_minor": 4
}
