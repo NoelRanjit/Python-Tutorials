{
 "cells": [
  {
   "cell_type": "code",
   "execution_count": 25,
   "metadata": {},
   "outputs": [
    {
     "name": "stdout",
     "output_type": "stream",
     "text": [
      "{'name': 'Noel', 'age': 26, 'courses': ['Numpy', 'Matplotlib', 'Pandas']}\n"
     ]
    }
   ],
   "source": [
    "# printing all the keys and values of student variable\n",
    "# student = {'name' : 'Noel', 'age' : 26 , 'courses' : ['Numpy', 'Matplotlib', 'Pandas']}\n",
    "student = {'name' : 'Noel', 'age' : 26 , 'courses' : ['Numpy', 'Matplotlib', 'Pandas']}\n",
    "print(student)"
   ]
  },
  {
   "cell_type": "code",
   "execution_count": 26,
   "metadata": {},
   "outputs": [
    {
     "name": "stdout",
     "output_type": "stream",
     "text": [
      "{'name': 'Noel', 'age': 26, 'courses': ['Numpy', 'Matplotlib', 'Pandas'], 'phone_number': '803-234-6534'}\n"
     ]
    }
   ],
   "source": [
    "# adding a phone number to student\n",
    "student['phone_number'] = '803-234-6534'\n",
    "print(student)"
   ]
  },
  {
   "cell_type": "code",
   "execution_count": 27,
   "metadata": {},
   "outputs": [
    {
     "name": "stdout",
     "output_type": "stream",
     "text": [
      "Noel\n"
     ]
    }
   ],
   "source": [
    "# acccessing the name key\n",
    "print(student.get('name'))"
   ]
  },
  {
   "cell_type": "code",
   "execution_count": 28,
   "metadata": {},
   "outputs": [
    {
     "name": "stdout",
     "output_type": "stream",
     "text": [
      "None\n"
     ]
    }
   ],
   "source": [
    "# access a key height that does not exist\n",
    "print(student.get('height'))"
   ]
  },
  {
   "cell_type": "code",
   "execution_count": 29,
   "metadata": {},
   "outputs": [
    {
     "name": "stdout",
     "output_type": "stream",
     "text": [
      "Not Found\n"
     ]
    }
   ],
   "source": [
    "# putting a default value for height\n",
    "print(student.get('height', 'Not Found'))"
   ]
  },
  {
   "cell_type": "code",
   "execution_count": 30,
   "metadata": {},
   "outputs": [
    {
     "name": "stdout",
     "output_type": "stream",
     "text": [
      "{'name': 'Nonstranger', 'age': 27, 'courses': ['Numpy', 'Matplotlib', 'Pandas'], 'phone_number': '803-234-6534'}\n"
     ]
    }
   ],
   "source": [
    "### chagne the name and age of student\n",
    "student.update({'name' :'Nonstranger', 'age' : 27})\n",
    "print(student)"
   ]
  },
  {
   "cell_type": "code",
   "execution_count": 31,
   "metadata": {},
   "outputs": [
    {
     "name": "stdout",
     "output_type": "stream",
     "text": [
      "{'name': 'Nonstranger', 'courses': ['Numpy', 'Matplotlib', 'Pandas'], 'phone_number': '803-234-6534'}\n",
      "27\n"
     ]
    }
   ],
   "source": [
    "# remove age from student. print the value that was removed. no key only value\n",
    "removed = student.pop('age')\n",
    "print(student)\n",
    "print(removed)"
   ]
  },
  {
   "cell_type": "code",
   "execution_count": 12,
   "metadata": {},
   "outputs": [
    {
     "name": "stdout",
     "output_type": "stream",
     "text": [
      "3\n"
     ]
    }
   ],
   "source": [
    "# find the length of student\n",
    "print(len(student))"
   ]
  },
  {
   "cell_type": "code",
   "execution_count": 13,
   "metadata": {},
   "outputs": [
    {
     "name": "stdout",
     "output_type": "stream",
     "text": [
      "dict_keys(['name', 'age', 'phone_number'])\n"
     ]
    }
   ],
   "source": [
    "# print only the keys of student\n",
    "print(student.keys())"
   ]
  },
  {
   "cell_type": "code",
   "execution_count": 14,
   "metadata": {},
   "outputs": [
    {
     "name": "stdout",
     "output_type": "stream",
     "text": [
      "dict_values(['Noel', 27, '745-834-9845'])\n"
     ]
    }
   ],
   "source": [
    "# print only the values of student\n",
    "print(student.values())"
   ]
  },
  {
   "cell_type": "code",
   "execution_count": 15,
   "metadata": {},
   "outputs": [
    {
     "name": "stdout",
     "output_type": "stream",
     "text": [
      "dict_items([('name', 'Noel'), ('age', 27), ('phone_number', '745-834-9845')])\n"
     ]
    }
   ],
   "source": [
    "# print the keys and values in pairs\n",
    "print(student.items())"
   ]
  },
  {
   "cell_type": "code",
   "execution_count": 16,
   "metadata": {},
   "outputs": [
    {
     "name": "stdout",
     "output_type": "stream",
     "text": [
      "name Noel\n",
      "age 27\n",
      "phone_number 745-834-9845\n"
     ]
    }
   ],
   "source": [
    "# loop through keys, values and print then out in seprate lines\n",
    "for keys, values in student.items():\n",
    "    print(keys, values)"
   ]
  },
  {
   "cell_type": "code",
   "execution_count": null,
   "metadata": {},
   "outputs": [],
   "source": []
  }
 ],
 "metadata": {
  "kernelspec": {
   "display_name": "Python 3",
   "language": "python",
   "name": "python3"
  },
  "language_info": {
   "codemirror_mode": {
    "name": "ipython",
    "version": 3
   },
   "file_extension": ".py",
   "mimetype": "text/x-python",
   "name": "python",
   "nbconvert_exporter": "python",
   "pygments_lexer": "ipython3",
   "version": "3.8.0"
  }
 },
 "nbformat": 4,
 "nbformat_minor": 4
}
