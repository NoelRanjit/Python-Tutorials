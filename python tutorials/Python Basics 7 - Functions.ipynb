{
 "cells": [
  {
   "cell_type": "code",
   "execution_count": 1,
   "metadata": {},
   "outputs": [
    {
     "name": "stdout",
     "output_type": "stream",
     "text": [
      "Noel Ranjit\n"
     ]
    }
   ],
   "source": [
    "# write a function that returns your name and print the name\n",
    "def name():\n",
    "    return('Noel Ranjit')\n",
    "print(name())"
   ]
  },
  {
   "cell_type": "code",
   "execution_count": 2,
   "metadata": {},
   "outputs": [
    {
     "name": "stdout",
     "output_type": "stream",
     "text": [
      "NOEL RANJIT\n"
     ]
    }
   ],
   "source": [
    "# turn the name to upper case\n",
    "print(name().upper())"
   ]
  },
  {
   "cell_type": "code",
   "execution_count": 5,
   "metadata": {},
   "outputs": [
    {
     "name": "stdout",
     "output_type": "stream",
     "text": [
      "Hello World\n"
     ]
    }
   ],
   "source": [
    "# Hello ____ . write a function that can fill the  blank greeting and return it\n",
    "def greeting(word):\n",
    "    return 'Hello {}'.format(word)\n",
    "print(greeting('World'))"
   ]
  },
  {
   "cell_type": "code",
   "execution_count": 9,
   "metadata": {},
   "outputs": [
    {
     "data": {
      "text/plain": [
       "'Hello Tiffanie'"
      ]
     },
     "execution_count": 9,
     "metadata": {},
     "output_type": "execute_result"
    }
   ],
   "source": [
    "# Using pring instead of return\n",
    "def greeitng(word):\n",
    "    print(f'Hello {word}')\n",
    "greeting('Tiffanie')"
   ]
  },
  {
   "cell_type": "code",
   "execution_count": 12,
   "metadata": {},
   "outputs": [
    {
     "name": "stdout",
     "output_type": "stream",
     "text": [
      "My full name is Noel Brown\n",
      "My full name is Noel Ranjit\n"
     ]
    }
   ],
   "source": [
    "# there can be two arguments that can be passed in a function. There can be a default value passed if no replacement is specified\n",
    "# use a function to call your full name\n",
    "# the default last name is Brown\n",
    "# call the function with only your first name\n",
    "def name(first, last = 'Brown'):\n",
    "    return f'My full name is {first} {last}'\n",
    "print(name('Noel'))\n",
    "print(name('Noel', 'Ranjit'))"
   ]
  },
  {
   "cell_type": "code",
   "execution_count": 22,
   "metadata": {},
   "outputs": [
    {
     "name": "stdout",
     "output_type": "stream",
     "text": [
      "('Math', 'Art')\n",
      "{'Name': 'Noel', 'Age': 26}\n"
     ]
    }
   ],
   "source": [
    "# Note : args store postional arguments and kwargs store dictionaties with keys and values\n",
    "def student_info(*args, **kwargs):\n",
    "    print(args)\n",
    "    print(kwargs)\n",
    "student_info('Math', 'Art', Name = 'Noel', Age = 26)"
   ]
  },
  {
   "cell_type": "code",
   "execution_count": 20,
   "metadata": {},
   "outputs": [
    {
     "name": "stdout",
     "output_type": "stream",
     "text": [
      "('Math', 'Art')\n",
      "{'Name': 'Noel', 'Age': 26}\n"
     ]
    }
   ],
   "source": [
    "# pass tuple course = ('Math', 'Art') and dictionary bio = {'Name' : 'Noel', 'Age' = 26} directly\n",
    "course = ('Math', 'Art')\n",
    "bio = {'Name' : 'Noel', 'Age' : 26}\n",
    "\n",
    "def student_info(*args, **kwargs):\n",
    "    print(args)\n",
    "    print(kwargs)\n",
    "student_info(*course, **bio)\n",
    "# Note *courses to unpack tuples and **bio to unpack dictionaries"
   ]
  },
  {
   "cell_type": "code",
   "execution_count": null,
   "metadata": {},
   "outputs": [],
   "source": []
  }
 ],
 "metadata": {
  "kernelspec": {
   "display_name": "Python 3",
   "language": "python",
   "name": "python3"
  },
  "language_info": {
   "codemirror_mode": {
    "name": "ipython",
    "version": 3
   },
   "file_extension": ".py",
   "mimetype": "text/x-python",
   "name": "python",
   "nbconvert_exporter": "python",
   "pygments_lexer": "ipython3",
   "version": "3.8.0"
  }
 },
 "nbformat": 4,
 "nbformat_minor": 4
}
